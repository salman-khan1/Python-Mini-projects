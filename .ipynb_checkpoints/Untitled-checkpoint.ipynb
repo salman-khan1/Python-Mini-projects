{
 "cells": [
  {
   "cell_type": "code",
   "execution_count": 4,
   "metadata": {},
   "outputs": [
    {
     "ename": "IndentationError",
     "evalue": "expected an indented block (<ipython-input-4-01f345c09c4c>, line 33)",
     "output_type": "error",
     "traceback": [
      "\u001b[1;36m  File \u001b[1;32m\"<ipython-input-4-01f345c09c4c>\"\u001b[1;36m, line \u001b[1;32m33\u001b[0m\n\u001b[1;33m    turns = turns - 1\u001b[0m\n\u001b[1;37m    ^\u001b[0m\n\u001b[1;31mIndentationError\u001b[0m\u001b[1;31m:\u001b[0m expected an indented block\n"
     ]
    }
   ],
   "source": [
    "import random\n",
    "def hangman():\n",
    "    \n",
    "    word=random.choice[\"pugger\",\"Tiger\",'ability','superman',\"artificial\",'inteligence','water','information','machine','learning']\n",
    "    validLetters=\"abcdefghijklmnopqrstuvwxyz\"\n",
    "    turns=10\n",
    "    guessmade=''\n",
    "    while len(word)>0:\n",
    "        main=\"\"\n",
    "        missed=0\n",
    "        for letter in word:\n",
    "            if letter in guessmade:\n",
    "                main=main+letter\n",
    "            else:\n",
    "                main=main+\"_\"+\" \"\n",
    "        if main==word:\n",
    "            print(main)\n",
    "            print(\"YOu win\")\n",
    "            break\n",
    "        print(\"Guess the word:\", main)\n",
    "        guess=input()     \n",
    "        \n",
    "        if guess in validLetters:\n",
    "            guessmade=guessmade+guess\n",
    "        else:\n",
    "            print(\"Enter a valid character\")\n",
    "            guess=input()   \n",
    "                        \n",
    "        if guess not in word:\n",
    "            turns=turns-1\n",
    "            if guess not in word:\n",
    "                if guess not in word:\n",
    "            turns = turns - 1\n",
    "            if turns == 9:\n",
    "                print(\"9 turns left\")\n",
    "                print(\"  --------  \")\n",
    "            if turns == 8:\n",
    "                print(\"8 turns left\")\n",
    "                print(\"  --------  \")\n",
    "                print(\"     O      \")\n",
    "            if turns == 7:\n",
    "                print(\"7 turns left\")\n",
    "                print(\"  --------  \")\n",
    "                print(\"     O      \")\n",
    "                print(\"     |      \")\n",
    "            if turns == 6:\n",
    "                print(\"6 turns left\")\n",
    "                print(\"  --------  \")\n",
    "                print(\"     O      \")\n",
    "                print(\"     |      \")\n",
    "                print(\"    /       \")\n",
    "            if turns == 5:\n",
    "                print(\"5 turns left\")\n",
    "                print(\"  --------  \")\n",
    "                print(\"     O      \")\n",
    "                print(\"     |      \")\n",
    "                print(\"    / \\     \")\n",
    "            if turns == 4:\n",
    "                print(\"4 turns left\")\n",
    "                print(\"  --------  \")\n",
    "                print(\"   \\ O      \")\n",
    "                print(\"     |      \")\n",
    "                print(\"    / \\     \")\n",
    "            if turns == 3:\n",
    "                print(\"3 turns left\")\n",
    "                print(\"  --------  \")\n",
    "                print(\"   \\ O /    \")\n",
    "                print(\"     |      \")\n",
    "                print(\"    / \\     \")\n",
    "            if turns == 2:\n",
    "                print(\"2 turns left\")\n",
    "                print(\"  --------  \")\n",
    "                print(\"   \\ O /|   \")\n",
    "                print(\"     |      \")\n",
    "                print(\"    / \\     \")\n",
    "            if turns == 1:\n",
    "                print(\"1 turns left\")\n",
    "                print(\"Last breaths counting, Take care!\")\n",
    "                print(\"  --------  \")\n",
    "                print(\"   \\ O_|/   \")\n",
    "                print(\"     |      \")\n",
    "                print(\"    / \\     \")\n",
    "            if turns == 0:\n",
    "                print(\"You loose\")\n",
    "                print(\"You let a kind man die\")\n",
    "                print(\"  --------  \")\n",
    "                print(\"     O_|    \")\n",
    "                print(\"    /|\\      \")\n",
    "                print(\"    / \\     \")\n",
    "                break        \n",
    "\n",
    "\n",
    "\n",
    "name=input(\"Enter your Name: \")\n",
    "print(\"Welcome \",name)\n",
    "print(\"-------------------\")\n",
    "print(\"Try to guess the word in less than 10 attemps\")\n",
    "print()"
   ]
  },
  {
   "cell_type": "code",
   "execution_count": 6,
   "metadata": {},
   "outputs": [
    {
     "ename": "AttributeError",
     "evalue": "module 'random' has no attribute 'word'",
     "output_type": "error",
     "traceback": [
      "\u001b[1;31m---------------------------------------------------------------------------\u001b[0m",
      "\u001b[1;31mAttributeError\u001b[0m                            Traceback (most recent call last)",
      "\u001b[1;32m<ipython-input-6-fecbf33736e9>\u001b[0m in \u001b[0;36m<module>\u001b[1;34m\u001b[0m\n\u001b[1;32m----> 1\u001b[1;33m \u001b[0mrandom\u001b[0m\u001b[1;33m.\u001b[0m\u001b[0mword\u001b[0m\u001b[1;33m\u001b[0m\u001b[1;33m\u001b[0m\u001b[0m\n\u001b[0m",
      "\u001b[1;31mAttributeError\u001b[0m: module 'random' has no attribute 'word'"
     ]
    }
   ],
   "source": []
  },
  {
   "cell_type": "code",
   "execution_count": null,
   "metadata": {},
   "outputs": [],
   "source": []
  }
 ],
 "metadata": {
  "kernelspec": {
   "display_name": "Python 3",
   "language": "python",
   "name": "python3"
  },
  "language_info": {
   "codemirror_mode": {
    "name": "ipython",
    "version": 3
   },
   "file_extension": ".py",
   "mimetype": "text/x-python",
   "name": "python",
   "nbconvert_exporter": "python",
   "pygments_lexer": "ipython3",
   "version": "3.8.5"
  }
 },
 "nbformat": 4,
 "nbformat_minor": 4
}
