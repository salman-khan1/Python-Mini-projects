{
 "cells": [
  {
   "cell_type": "code",
   "execution_count": 1,
   "metadata": {},
   "outputs": [],
   "source": [
    "import random"
   ]
  },
  {
   "cell_type": "code",
   "execution_count": 20,
   "metadata": {},
   "outputs": [
    {
     "name": "stdout",
     "output_type": "stream",
     "text": [
      "--------------\n",
      "|            |\n",
      "|   0    0   |\n",
      "|            |\n",
      "--------------\n",
      "x or ny\n",
      "--------------\n",
      "|            |\n",
      "|   0    0   |\n",
      "|            |\n",
      "--------------\n",
      "x or ny\n",
      "--------------\n",
      "|            |\n",
      "|   0    0   |\n",
      "|            |\n",
      "--------------\n",
      "x or nx\n"
     ]
    }
   ],
   "source": [
    "x=\"y\"\n",
    "while x==\"y\":\n",
    "    num=random.randint(1,6)\n",
    "\n",
    "    if num==1:\n",
    "        print(\"--------------\")\n",
    "        print(\"|            |\")\n",
    "        print(\"|     0      |\")\n",
    "        print(\"|            |\")\n",
    "        print(\"--------------\")\n",
    "    if num==2:\n",
    "        print(\"--------------\")\n",
    "        print(\"|            |\")\n",
    "        print(\"|   0    0   |\")\n",
    "        print(\"|            |\")\n",
    "        print(\"--------------\")\n",
    "    if num==3:\n",
    "        print(\"--------------\")\n",
    "        print(\"|          0 |\")\n",
    "        print(\"|     0      |\")\n",
    "        print(\"| 0          |\")\n",
    "        print(\"--------------\")\n",
    "    if num==4:\n",
    "        print(\"--------------\")\n",
    "        print(\"| 0         0|\")\n",
    "        print(\"|            |\")\n",
    "        print(\"| 0         0|\")\n",
    "        print(\"--------------\")\n",
    "    if num==5:\n",
    "        print(\"--------------\")\n",
    "        print(\"|0          0|\")\n",
    "        print(\"|     0      |\")\n",
    "        print(\"|0          0|\")\n",
    "        print(\"--------------\")\n",
    "    if num==6:\n",
    "        print(\"--------------\")\n",
    "        print(\"|0          0|\")\n",
    "        print(\"|0          0|\")\n",
    "        print(\"|0          0|\")\n",
    "        print(\"--------------\")\n",
    "    x=input(\"x or n\")\n"
   ]
  },
  {
   "cell_type": "code",
   "execution_count": null,
   "metadata": {},
   "outputs": [],
   "source": []
  },
  {
   "cell_type": "code",
   "execution_count": null,
   "metadata": {},
   "outputs": [],
   "source": []
  }
 ],
 "metadata": {
  "kernelspec": {
   "display_name": "Python 3",
   "language": "python",
   "name": "python3"
  },
  "language_info": {
   "codemirror_mode": {
    "name": "ipython",
    "version": 3
   },
   "file_extension": ".py",
   "mimetype": "text/x-python",
   "name": "python",
   "nbconvert_exporter": "python",
   "pygments_lexer": "ipython3",
   "version": "3.8.5"
  }
 },
 "nbformat": 4,
 "nbformat_minor": 4
}
