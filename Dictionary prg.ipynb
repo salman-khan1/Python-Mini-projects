{
 "cells": [
  {
   "cell_type": "code",
   "execution_count": 13,
   "metadata": {},
   "outputs": [],
   "source": [
    "import json\n",
    "from difflib import get_close_matches\n",
    "data=json.load(open(\"data.json\"))"
   ]
  },
  {
   "cell_type": "code",
   "execution_count": 21,
   "metadata": {},
   "outputs": [
    {
     "name": "stdout",
     "output_type": "stream",
     "text": [
      "Enter the word you want to searchsupermann\n",
      "did you mean superman instead\n",
      "press y for yes or n for noy\n",
      "A powerful hallucinogenic drug manufactured from lysergic acid.\n"
     ]
    }
   ],
   "source": [
    "def translate(word):\n",
    "    word=word.lower()\n",
    "    if word in data:\n",
    "        return data[word]\n",
    "    elif word.title() in data:\n",
    "         return data[word.title()]\n",
    "    elif word.upper() in data:\n",
    "        return data[word.upper()]\n",
    "    elif len(get_close_matches(word , data.keys())) > 0 :\n",
    "        print(\"did you mean %s instead\" %get_close_matches(word, data.keys())[0])\n",
    "        decide = input(\"press y for yes or n for no\")\n",
    "        if decide==\"y\":            \n",
    "            return data[get_close_matches(word,data.keys())[0]]        \n",
    "        elif decide==\"n\":           \n",
    "            return\"The word does not exist\"       \n",
    "        else:\n",
    "            return\"You have Entered wrong word enter just y or n\"\n",
    "    \n",
    "    \n",
    "    \n",
    "    else:\n",
    "            \n",
    "        return\"You have enterd wrong word please check it again\"\n",
    "    \n",
    "word=input(\"Enter the word you want to search\")\n",
    "output=translate(word)\n",
    "if type(output)==list: \n",
    "    for item in output:\n",
    "        print(item)\n",
    "else:\n",
    "    print(output)\n",
    "    "
   ]
  },
  {
   "cell_type": "code",
   "execution_count": 12,
   "metadata": {},
   "outputs": [],
   "source": []
  },
  {
   "cell_type": "code",
   "execution_count": null,
   "metadata": {},
   "outputs": [],
   "source": []
  }
 ],
 "metadata": {
  "kernelspec": {
   "display_name": "Python 3",
   "language": "python",
   "name": "python3"
  },
  "language_info": {
   "codemirror_mode": {
    "name": "ipython",
    "version": 3
   },
   "file_extension": ".py",
   "mimetype": "text/x-python",
   "name": "python",
   "nbconvert_exporter": "python",
   "pygments_lexer": "ipython3",
   "version": "3.8.5"
  }
 },
 "nbformat": 4,
 "nbformat_minor": 4
}
